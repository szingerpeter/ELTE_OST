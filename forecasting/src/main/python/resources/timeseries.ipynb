{
  "nbformat": 4,
  "nbformat_minor": 0,
  "metadata": {
    "colab": {
      "name": "timeseries.ipynb",
      "provenance": [],
      "collapsed_sections": [],
      "toc_visible": true
    },
    "kernelspec": {
      "name": "python3",
      "display_name": "Python 3"
    },
    "accelerator": "GPU"
  },
  "cells": [
    {
      "cell_type": "code",
      "metadata": {
        "colab": {
          "base_uri": "https://localhost:8080/"
        },
        "id": "l0D-Yszin4Yo",
        "outputId": "9bc86330-fc83-42d4-ec2a-411de2a11d15"
      },
      "source": [
        "from google.colab import drive\r\n",
        "drive.mount('/content/drive')"
      ],
      "execution_count": 1,
      "outputs": [
        {
          "output_type": "stream",
          "text": [
            "Mounted at /content/drive\n"
          ],
          "name": "stdout"
        }
      ]
    },
    {
      "cell_type": "code",
      "metadata": {
        "colab": {
          "base_uri": "https://localhost:8080/"
        },
        "id": "rMFo_N0EPJQG",
        "outputId": "b92b2bca-bd1f-4e4c-8ca2-69eb555fa3ea"
      },
      "source": [
        "!unzip /content/drive/MyDrive/trainining_dataset.zip"
      ],
      "execution_count": 2,
      "outputs": [
        {
          "output_type": "stream",
          "text": [
            "Archive:  /content/drive/MyDrive/trainining_dataset.zip\n",
            "  inflating: trainining_dataset.csv  \n"
          ],
          "name": "stdout"
        }
      ]
    },
    {
      "cell_type": "code",
      "metadata": {
        "id": "FHB7PLHXP1tn"
      },
      "source": [
        "import pandas as pd\r\n",
        "import numpy as np"
      ],
      "execution_count": 3,
      "outputs": []
    },
    {
      "cell_type": "code",
      "metadata": {
        "id": "UcYOGvhGP-qN"
      },
      "source": [
        "path = \"/content/trainining_dataset.csv\"\r\n",
        "dataset = pd.read_csv(path)"
      ],
      "execution_count": 4,
      "outputs": []
    },
    {
      "cell_type": "markdown",
      "metadata": {
        "id": "iDSuwUdfehSA"
      },
      "source": [
        "Exploration"
      ]
    },
    {
      "cell_type": "code",
      "metadata": {
        "colab": {
          "base_uri": "https://localhost:8080/"
        },
        "id": "wQkVN5wlkGUB",
        "outputId": "3f8dac3a-a710-46fc-8916-253027cb91c4"
      },
      "source": [
        "print(len(dataset)) #35'162'432"
      ],
      "execution_count": 26,
      "outputs": [
        {
          "output_type": "stream",
          "text": [
            "35162432\n"
          ],
          "name": "stdout"
        }
      ]
    },
    {
      "cell_type": "code",
      "metadata": {
        "colab": {
          "base_uri": "https://localhost:8080/",
          "height": 204
        },
        "id": "AuXsyO-cd_cX",
        "outputId": "e3b051dd-455c-422b-c37d-60b7d79035e6"
      },
      "source": [
        "dataset.head(5)"
      ],
      "execution_count": 25,
      "outputs": [
        {
          "output_type": "execute_result",
          "data": {
            "text/html": [
              "<div>\n",
              "<style scoped>\n",
              "    .dataframe tbody tr th:only-of-type {\n",
              "        vertical-align: middle;\n",
              "    }\n",
              "\n",
              "    .dataframe tbody tr th {\n",
              "        vertical-align: top;\n",
              "    }\n",
              "\n",
              "    .dataframe thead th {\n",
              "        text-align: right;\n",
              "    }\n",
              "</style>\n",
              "<table border=\"1\" class=\"dataframe\">\n",
              "  <thead>\n",
              "    <tr style=\"text-align: right;\">\n",
              "      <th></th>\n",
              "      <th>Unnamed: 0</th>\n",
              "      <th>timestamp</th>\n",
              "      <th>location_id</th>\n",
              "      <th>measurements</th>\n",
              "    </tr>\n",
              "  </thead>\n",
              "  <tbody>\n",
              "    <tr>\n",
              "      <th>0</th>\n",
              "      <td>0</td>\n",
              "      <td>1.246493e+09</td>\n",
              "      <td>0</td>\n",
              "      <td>-79.500000</td>\n",
              "    </tr>\n",
              "    <tr>\n",
              "      <th>1</th>\n",
              "      <td>1</td>\n",
              "      <td>1.246493e+09</td>\n",
              "      <td>1</td>\n",
              "      <td>-397.619995</td>\n",
              "    </tr>\n",
              "    <tr>\n",
              "      <th>2</th>\n",
              "      <td>2</td>\n",
              "      <td>1.246493e+09</td>\n",
              "      <td>2</td>\n",
              "      <td>238.770004</td>\n",
              "    </tr>\n",
              "    <tr>\n",
              "      <th>3</th>\n",
              "      <td>3</td>\n",
              "      <td>1.246493e+09</td>\n",
              "      <td>3</td>\n",
              "      <td>-381.690002</td>\n",
              "    </tr>\n",
              "    <tr>\n",
              "      <th>4</th>\n",
              "      <td>4</td>\n",
              "      <td>1.246493e+09</td>\n",
              "      <td>4</td>\n",
              "      <td>-32.470001</td>\n",
              "    </tr>\n",
              "  </tbody>\n",
              "</table>\n",
              "</div>"
            ],
            "text/plain": [
              "   Unnamed: 0     timestamp  location_id  measurements\n",
              "0           0  1.246493e+09            0    -79.500000\n",
              "1           1  1.246493e+09            1   -397.619995\n",
              "2           2  1.246493e+09            2    238.770004\n",
              "3           3  1.246493e+09            3   -381.690002\n",
              "4           4  1.246493e+09            4    -32.470001"
            ]
          },
          "metadata": {
            "tags": []
          },
          "execution_count": 25
        }
      ]
    },
    {
      "cell_type": "code",
      "metadata": {
        "colab": {
          "base_uri": "https://localhost:8080/",
          "height": 276
        },
        "id": "-MiTmsgpegFV",
        "outputId": "265eb900-3c85-4e28-d22b-95c6e5c72cb8"
      },
      "source": [
        "n_bins = 50\r\n",
        "import matplotlib.pyplot as plt\r\n",
        "import numpy as np\r\n",
        "from matplotlib import colors\r\n",
        "from matplotlib.ticker import PercentFormatter\r\n",
        "\r\n",
        "\r\n",
        "\r\n",
        "N, bins, patches = plt.hist(dataset[\"measurements\"], bins=n_bins)\r\n",
        "\r\n",
        "# We'll color code by height, but you could use any scalar\r\n",
        "fracs = N / N.max()\r\n",
        "\r\n",
        "# we need to normalize the data to 0..1 for the full range of the colormap\r\n",
        "norm = colors.Normalize(fracs.min(), fracs.max())\r\n",
        "\r\n",
        "# Now, we'll loop through our objects and set the color of each accordingly\r\n",
        "for thisfrac, thispatch in zip(fracs, patches):\r\n",
        "    color = plt.cm.viridis(norm(thisfrac))\r\n",
        "    thispatch.set_facecolor(color)\r\n",
        "    \r\n",
        "plt.savefig(\"grafico_distribuzione.png\")\r\n",
        "plt.show()"
      ],
      "execution_count": 22,
      "outputs": [
        {
          "output_type": "display_data",
          "data": {
            "image/png": "[encoded data removed]",
            "text/plain": [
              "<Figure size 432x288 with 1 Axes>"
            ]
          },
          "metadata": {
            "tags": [],
            "needs_background": "light"
          }
        }
      ]
    },
    {
      "cell_type": "code",
      "metadata": {
        "colab": {
          "base_uri": "https://localhost:8080/"
        },
        "id": "tBlNhU38ioyx",
        "outputId": "efe2f076-73d5-4f64-beda-198d327550ff"
      },
      "source": [
        "\r\n",
        "print(\"Measuraments\")\r\n",
        "print(\"max: \",max(dataset[\"measurements\"]))\r\n",
        "print(\"min: \",min(dataset[\"measurements\"]))\r\n",
        "print(\"avg: \",dataset[\"measurements\"].mean())\r\n",
        "print()\r\n",
        "\r\n",
        "print(\"Location_id\")\r\n",
        "print(\"max: \",max(dataset[\"location_id\"]))\r\n",
        "print(\"min:\",min(dataset[\"location_id\"]))\r\n",
        "\r\n",
        "from datetime import datetime\r\n",
        "\r\n",
        "timestamp = 1545730073\r\n",
        "dt_object = datetime.fromtimestamp(timestamp)\r\n",
        "print()\r\n",
        "\r\n",
        "\r\n",
        "print(\"Timestamp\")\r\n",
        "print(\"max: \",datetime.fromtimestamp(max(dataset[\"timestamp\"])))\r\n",
        "print(\"min: \",datetime.fromtimestamp(min(dataset[\"timestamp\"])))\r\n",
        "print(\"max: \",max(dataset[\"timestamp\"]))\r\n",
        "print(\"min: \",min(dataset[\"timestamp\"]))"
      ],
      "execution_count": 5,
      "outputs": [
        {
          "output_type": "stream",
          "text": [
            "Measuraments\n",
            "max:  1978.6099853515625\n",
            "min:  -1953.75\n",
            "avg:  0.37659970636326867\n",
            "\n",
            "Location_id\n",
            "max:  1915\n",
            "min: 0\n",
            "\n",
            "Timestamp\n",
            "max:  2009-12-20 09:55:00\n",
            "min:  2009-07-02 00:00:00\n",
            "max:  1261302900.0\n",
            "min:  1246492800.0\n"
          ],
          "name": "stdout"
        }
      ]
    },
    {
      "cell_type": "code",
      "metadata": {
        "colab": {
          "base_uri": "https://localhost:8080/"
        },
        "id": "mBIpq6qCmaIq",
        "outputId": "77488d36-09e9-4328-b4d8-80b78b6d8e2b"
      },
      "source": [
        "#count null value and zero value\r\n",
        "zero_value = len(dataset[dataset[\"measurements\"]==0])\r\n",
        "print(\"count zero value: \", zero_value)\r\n",
        "print(\"percent zero value: \", zero_value/len(dataset))"
      ],
      "execution_count": 32,
      "outputs": [
        {
          "output_type": "stream",
          "text": [
            "count zero value:  8360539\n",
            "percent zero value:  0.23776907695121885\n"
          ],
          "name": "stdout"
        }
      ]
    },
    {
      "cell_type": "markdown",
      "metadata": {
        "id": "rwJT3gRwj_Pk"
      },
      "source": [
        "##LSTM"
      ]
    },
    {
      "cell_type": "code",
      "metadata": {
        "id": "reEwPk5JcFX3"
      },
      "source": [
        "X = []\r\n",
        "y = []\r\n",
        "i=0\r\n",
        "for index, row in dataset.iterrows():\r\n",
        "    X.append((row[\"timestamp\"],row[\"location_id\"]))\r\n",
        "    y.append(row[\"measurements\"])\r\n",
        "    i=i+1\r\n",
        "    if i==10000:\r\n",
        "      break\r\n",
        "\r\n"
      ],
      "execution_count": 6,
      "outputs": []
    },
    {
      "cell_type": "code",
      "metadata": {
        "colab": {
          "base_uri": "https://localhost:8080/"
        },
        "id": "qKfRWcHseB25",
        "outputId": "723f945e-3160-4468-e89e-82be91508445"
      },
      "source": [
        "print(X[0],y[0])"
      ],
      "execution_count": null,
      "outputs": [
        {
          "output_type": "stream",
          "text": [
            "(1246492800.0, 0.0) -79.5\n"
          ],
          "name": "stdout"
        }
      ]
    },
    {
      "cell_type": "code",
      "metadata": {
        "id": "8LkdGbS7rRPn"
      },
      "source": [
        "X = np.expand_dims(X, axis=-1)"
      ],
      "execution_count": null,
      "outputs": []
    },
    {
      "cell_type": "code",
      "metadata": {
        "id": "Jn_HbVd5UNmr"
      },
      "source": [
        "X = np.expand_dims(X, axis=1)"
      ],
      "execution_count": null,
      "outputs": []
    },
    {
      "cell_type": "code",
      "metadata": {
        "colab": {
          "base_uri": "https://localhost:8080/"
        },
        "id": "5qHqc3Ukerua",
        "outputId": "14cfbc76-6c2b-461c-de56-460ef59379f4"
      },
      "source": [
        "print(np.shape(X))"
      ],
      "execution_count": null,
      "outputs": [
        {
          "output_type": "stream",
          "text": [
            "(10000, 2)\n"
          ],
          "name": "stdout"
        }
      ]
    },
    {
      "cell_type": "code",
      "metadata": {
        "id": "O5ENNh4SgMEQ"
      },
      "source": [
        "from sklearn.model_selection import train_test_split\r\n",
        "#split dataset\r\n",
        "X_train,X_valid,y_train,y_valid=train_test_split(X,y,test_size=0.3,random_state=123)"
      ],
      "execution_count": null,
      "outputs": []
    },
    {
      "cell_type": "code",
      "metadata": {
        "colab": {
          "base_uri": "https://localhost:8080/"
        },
        "id": "Z6i5g1q6dtcn",
        "outputId": "5166eaf8-70a5-4b15-c31d-590046290780"
      },
      "source": [
        "# univariate lstm example\r\n",
        "from numpy import array\r\n",
        "from keras.models import Sequential\r\n",
        "from keras.layers import LSTM\r\n",
        "from keras.layers import Dense\r\n",
        "\r\n",
        "model = Sequential()\r\n",
        "model.add(LSTM(50, return_sequences=False,activation='relu', input_shape=(2,1)))\r\n",
        "model.add(Dense(1))\r\n",
        "model.compile(optimizer='adam', loss='mse')"
      ],
      "execution_count": 1,
      "outputs": [
        {
          "output_type": "stream",
          "text": [
            "WARNING:tensorflow:Layer lstm will not use cuDNN kernel since it doesn't meet the cuDNN kernel criteria. It will use generic GPU kernel as fallback when running on GPU\n"
          ],
          "name": "stdout"
        }
      ]
    },
    {
      "cell_type": "code",
      "metadata": {
        "colab": {
          "base_uri": "https://localhost:8080/"
        },
        "id": "Hf_5X5ZI5fkr",
        "outputId": "e1ddbb6a-f720-4ef6-e166-80f9d56a83af"
      },
      "source": [
        "model.summary()"
      ],
      "execution_count": 2,
      "outputs": [
        {
          "output_type": "stream",
          "text": [
            "Model: \"sequential\"\n",
            "_________________________________________________________________\n",
            "Layer (type)                 Output Shape              Param #   \n",
            "=================================================================\n",
            "lstm (LSTM)                  (None, 50)                10400     \n",
            "_________________________________________________________________\n",
            "dense (Dense)                (None, 1)                 51        \n",
            "=================================================================\n",
            "Total params: 10,451\n",
            "Trainable params: 10,451\n",
            "Non-trainable params: 0\n",
            "_________________________________________________________________\n"
          ],
          "name": "stdout"
        }
      ]
    },
    {
      "cell_type": "code",
      "metadata": {
        "colab": {
          "base_uri": "https://localhost:8080/"
        },
        "id": "1x6JRyNDgAND",
        "outputId": "801f69ff-618d-4b2c-9c7b-b52ef49000c5"
      },
      "source": [
        "\r\n",
        "# fit model\r\n",
        "history = model.fit(np.array(X_train), \r\n",
        "          np.array(y_train),\r\n",
        "          batch_size=64, \r\n",
        "          epochs=100, \r\n",
        "          verbose=1,\r\n",
        "          validation_data=(np.array(X_valid), np.array(y_valid)),)"
      ],
      "execution_count": null,
      "outputs": [
        {
          "output_type": "stream",
          "text": [
            "Epoch 1/100\n",
            "110/110 [==============================] - 0s 3ms/step - loss: 4457715712.0000 - val_loss: 2644356352.0000\n",
            "Epoch 2/100\n",
            "110/110 [==============================] - 0s 3ms/step - loss: 8792037376.0000 - val_loss: 4234919936.0000\n",
            "Epoch 3/100\n",
            "110/110 [==============================] - 0s 3ms/step - loss: 9002354688.0000 - val_loss: 1440611328.0000\n",
            "Epoch 4/100\n",
            "110/110 [==============================] - 0s 3ms/step - loss: 16094797824.0000 - val_loss: 21589078016.0000\n",
            "Epoch 5/100\n",
            "110/110 [==============================] - 0s 3ms/step - loss: 5897050624.0000 - val_loss: 1579251.8750\n",
            "Epoch 6/100\n",
            "110/110 [==============================] - 0s 3ms/step - loss: 5641157120.0000 - val_loss: 347300128.0000\n",
            "Epoch 7/100\n",
            "110/110 [==============================] - 0s 3ms/step - loss: 6385038848.0000 - val_loss: 55483868.0000\n",
            "Epoch 8/100\n",
            "110/110 [==============================] - 0s 3ms/step - loss: 3897063680.0000 - val_loss: 3291232000.0000\n",
            "Epoch 9/100\n",
            "110/110 [==============================] - 0s 3ms/step - loss: 7787262464.0000 - val_loss: 3681373184.0000\n",
            "Epoch 10/100\n",
            "110/110 [==============================] - 0s 4ms/step - loss: 5824302592.0000 - val_loss: 23700982.0000\n",
            "Epoch 11/100\n",
            "110/110 [==============================] - 0s 3ms/step - loss: 3474433280.0000 - val_loss: 6045736960.0000\n",
            "Epoch 12/100\n",
            "110/110 [==============================] - 0s 3ms/step - loss: 9643770880.0000 - val_loss: 3320167680.0000\n",
            "Epoch 13/100\n",
            "110/110 [==============================] - 0s 3ms/step - loss: 2509167360.0000 - val_loss: 2605496576.0000\n",
            "Epoch 14/100\n",
            "110/110 [==============================] - 0s 3ms/step - loss: 1451703168.0000 - val_loss: 356612000.0000\n",
            "Epoch 15/100\n",
            "110/110 [==============================] - 0s 3ms/step - loss: 6921932800.0000 - val_loss: 860414016.0000\n",
            "Epoch 16/100\n",
            "110/110 [==============================] - 0s 3ms/step - loss: 1243106944.0000 - val_loss: 622185664.0000\n",
            "Epoch 17/100\n",
            "110/110 [==============================] - 0s 3ms/step - loss: 3685192192.0000 - val_loss: 164326896.0000\n",
            "Epoch 18/100\n",
            "110/110 [==============================] - 0s 3ms/step - loss: 3267764992.0000 - val_loss: 4534826496.0000\n",
            "Epoch 19/100\n",
            "110/110 [==============================] - 0s 3ms/step - loss: 2473640704.0000 - val_loss: 768490880.0000\n",
            "Epoch 20/100\n",
            "110/110 [==============================] - 0s 3ms/step - loss: 1289697152.0000 - val_loss: 1276617344.0000\n",
            "Epoch 21/100\n",
            "110/110 [==============================] - 0s 3ms/step - loss: 2512349184.0000 - val_loss: 3955505408.0000\n",
            "Epoch 22/100\n",
            "110/110 [==============================] - 0s 2ms/step - loss: 3318284032.0000 - val_loss: 6988803584.0000\n",
            "Epoch 23/100\n",
            "110/110 [==============================] - 0s 3ms/step - loss: 2686673664.0000 - val_loss: 957228416.0000\n",
            "Epoch 24/100\n",
            "110/110 [==============================] - 0s 3ms/step - loss: 892757376.0000 - val_loss: 113186032.0000\n",
            "Epoch 25/100\n",
            "110/110 [==============================] - 0s 3ms/step - loss: 1195917568.0000 - val_loss: 642637120.0000\n",
            "Epoch 26/100\n",
            "110/110 [==============================] - 0s 3ms/step - loss: 1762894336.0000 - val_loss: 62174916.0000\n",
            "Epoch 27/100\n",
            "110/110 [==============================] - 0s 3ms/step - loss: 1347823616.0000 - val_loss: 527148384.0000\n",
            "Epoch 28/100\n",
            "110/110 [==============================] - 0s 3ms/step - loss: 641881216.0000 - val_loss: 2009681920.0000\n",
            "Epoch 29/100\n",
            "110/110 [==============================] - 0s 3ms/step - loss: 1384956288.0000 - val_loss: 1712266624.0000\n",
            "Epoch 30/100\n",
            "110/110 [==============================] - 0s 3ms/step - loss: 974904704.0000 - val_loss: 332956672.0000\n",
            "Epoch 31/100\n",
            "110/110 [==============================] - 0s 3ms/step - loss: 3815310080.0000 - val_loss: 124500704.0000\n",
            "Epoch 32/100\n",
            "110/110 [==============================] - 0s 2ms/step - loss: 495274240.0000 - val_loss: 19939748.0000\n",
            "Epoch 33/100\n",
            "110/110 [==============================] - 0s 3ms/step - loss: 404367488.0000 - val_loss: 1355437312.0000\n",
            "Epoch 34/100\n",
            "110/110 [==============================] - 0s 3ms/step - loss: 580420288.0000 - val_loss: 1613848448.0000\n",
            "Epoch 35/100\n",
            "110/110 [==============================] - 0s 3ms/step - loss: 386942272.0000 - val_loss: 133663448.0000\n",
            "Epoch 36/100\n",
            "110/110 [==============================] - 0s 3ms/step - loss: 775155968.0000 - val_loss: 469211808.0000\n",
            "Epoch 37/100\n",
            "110/110 [==============================] - 0s 3ms/step - loss: 550770752.0000 - val_loss: 80559800.0000\n",
            "Epoch 38/100\n",
            "110/110 [==============================] - 0s 3ms/step - loss: 858059776.0000 - val_loss: 11631927.0000\n",
            "Epoch 39/100\n",
            "110/110 [==============================] - 0s 3ms/step - loss: 409872032.0000 - val_loss: 70316400.0000\n",
            "Epoch 40/100\n",
            "110/110 [==============================] - 0s 3ms/step - loss: 221824864.0000 - val_loss: 70349528.0000\n",
            "Epoch 41/100\n",
            "110/110 [==============================] - 0s 3ms/step - loss: 367030848.0000 - val_loss: 63208248.0000\n",
            "Epoch 42/100\n",
            "110/110 [==============================] - 0s 3ms/step - loss: 627063744.0000 - val_loss: 1350061568.0000\n",
            "Epoch 43/100\n",
            "110/110 [==============================] - 0s 3ms/step - loss: 639805888.0000 - val_loss: 60962096.0000\n",
            "Epoch 44/100\n",
            "110/110 [==============================] - 0s 3ms/step - loss: 327277248.0000 - val_loss: 55248416.0000\n",
            "Epoch 45/100\n",
            "110/110 [==============================] - 0s 3ms/step - loss: 211855136.0000 - val_loss: 11480946.0000\n",
            "Epoch 46/100\n",
            "110/110 [==============================] - 0s 3ms/step - loss: 264813776.0000 - val_loss: 245453200.0000\n",
            "Epoch 47/100\n",
            "110/110 [==============================] - 0s 3ms/step - loss: 224575840.0000 - val_loss: 94672232.0000\n",
            "Epoch 48/100\n",
            "110/110 [==============================] - 0s 3ms/step - loss: 170333264.0000 - val_loss: 19118942.0000\n",
            "Epoch 49/100\n",
            "110/110 [==============================] - 0s 3ms/step - loss: 315175968.0000 - val_loss: 229975872.0000\n",
            "Epoch 50/100\n",
            "110/110 [==============================] - 0s 3ms/step - loss: 151290592.0000 - val_loss: 29598862.0000\n",
            "Epoch 51/100\n",
            "110/110 [==============================] - 0s 3ms/step - loss: 149478816.0000 - val_loss: 494231232.0000\n",
            "Epoch 52/100\n",
            "110/110 [==============================] - 0s 3ms/step - loss: 159929920.0000 - val_loss: 354862048.0000\n",
            "Epoch 53/100\n",
            "110/110 [==============================] - 0s 4ms/step - loss: 123528560.0000 - val_loss: 4699587.5000\n",
            "Epoch 54/100\n",
            "110/110 [==============================] - 0s 3ms/step - loss: 71302504.0000 - val_loss: 4913119.0000\n",
            "Epoch 55/100\n",
            "110/110 [==============================] - 0s 3ms/step - loss: 104797672.0000 - val_loss: 56799780.0000\n",
            "Epoch 56/100\n",
            "110/110 [==============================] - 0s 3ms/step - loss: 53457556.0000 - val_loss: 21048696.0000\n",
            "Epoch 57/100\n",
            "110/110 [==============================] - 0s 3ms/step - loss: 116874528.0000 - val_loss: 6226910.0000\n",
            "Epoch 58/100\n",
            "110/110 [==============================] - 0s 3ms/step - loss: 50793500.0000 - val_loss: 45570112.0000\n",
            "Epoch 59/100\n",
            "110/110 [==============================] - 0s 3ms/step - loss: 54556324.0000 - val_loss: 801512.0000\n",
            "Epoch 60/100\n",
            "110/110 [==============================] - 0s 3ms/step - loss: 61468360.0000 - val_loss: 55826164.0000\n",
            "Epoch 61/100\n",
            "110/110 [==============================] - 0s 3ms/step - loss: 82397880.0000 - val_loss: 11255865.0000\n",
            "Epoch 62/100\n",
            "110/110 [==============================] - 0s 3ms/step - loss: 32702366.0000 - val_loss: 33654968.0000\n",
            "Epoch 63/100\n",
            "110/110 [==============================] - 0s 3ms/step - loss: 68368104.0000 - val_loss: 19864814.0000\n",
            "Epoch 64/100\n",
            "110/110 [==============================] - 0s 3ms/step - loss: 56553508.0000 - val_loss: 9597303.0000\n",
            "Epoch 65/100\n",
            "110/110 [==============================] - 0s 3ms/step - loss: 38110844.0000 - val_loss: 1031062.5000\n",
            "Epoch 66/100\n",
            "110/110 [==============================] - 0s 3ms/step - loss: 38860196.0000 - val_loss: 64566.7930\n",
            "Epoch 67/100\n",
            "110/110 [==============================] - 0s 3ms/step - loss: 39435528.0000 - val_loss: 2150950.5000\n",
            "Epoch 68/100\n",
            "110/110 [==============================] - 0s 3ms/step - loss: 23325862.0000 - val_loss: 3405710.0000\n",
            "Epoch 69/100\n",
            "110/110 [==============================] - 0s 3ms/step - loss: 18762814.0000 - val_loss: 110182.0391\n",
            "Epoch 70/100\n",
            "110/110 [==============================] - 0s 3ms/step - loss: 13181085.0000 - val_loss: 41844.2148\n",
            "Epoch 71/100\n",
            "110/110 [==============================] - 0s 3ms/step - loss: 23809938.0000 - val_loss: 8285592.0000\n",
            "Epoch 72/100\n",
            "110/110 [==============================] - 0s 3ms/step - loss: 18985350.0000 - val_loss: 1618800.7500\n",
            "Epoch 73/100\n",
            "110/110 [==============================] - 0s 3ms/step - loss: 22012964.0000 - val_loss: 267223.0938\n",
            "Epoch 74/100\n",
            "110/110 [==============================] - 0s 3ms/step - loss: 12802675.0000 - val_loss: 3825807.7500\n",
            "Epoch 75/100\n",
            "110/110 [==============================] - 0s 3ms/step - loss: 20201462.0000 - val_loss: 409235.0312\n",
            "Epoch 76/100\n",
            "110/110 [==============================] - 0s 3ms/step - loss: 31641732.0000 - val_loss: 7386782.5000\n",
            "Epoch 77/100\n",
            "110/110 [==============================] - 0s 3ms/step - loss: 9935343.0000 - val_loss: 2013912.7500\n",
            "Epoch 78/100\n",
            "110/110 [==============================] - 0s 3ms/step - loss: 10419972.0000 - val_loss: 51223.8555\n",
            "Epoch 79/100\n",
            "110/110 [==============================] - 0s 3ms/step - loss: 7300272.0000 - val_loss: 599496.8125\n",
            "Epoch 80/100\n",
            "110/110 [==============================] - 0s 3ms/step - loss: 8364783.5000 - val_loss: 64056.2891\n",
            "Epoch 81/100\n",
            "110/110 [==============================] - 0s 3ms/step - loss: 12550157.0000 - val_loss: 2917771.5000\n",
            "Epoch 82/100\n",
            "110/110 [==============================] - 0s 2ms/step - loss: 6880606.0000 - val_loss: 1142561.2500\n",
            "Epoch 83/100\n",
            "110/110 [==============================] - 0s 3ms/step - loss: 3142245.2500 - val_loss: 60807.2969\n",
            "Epoch 84/100\n",
            "110/110 [==============================] - 0s 3ms/step - loss: 4974617.5000 - val_loss: 43759.8203\n",
            "Epoch 85/100\n",
            "110/110 [==============================] - 0s 3ms/step - loss: 4682111.5000 - val_loss: 2330271.0000\n",
            "Epoch 86/100\n",
            "110/110 [==============================] - 0s 3ms/step - loss: 4528317.5000 - val_loss: 641421.2500\n",
            "Epoch 87/100\n",
            "110/110 [==============================] - 0s 3ms/step - loss: 2463689.7500 - val_loss: 67199.1562\n",
            "Epoch 88/100\n",
            "110/110 [==============================] - 0s 3ms/step - loss: 2375407.2500 - val_loss: 398275.2812\n",
            "Epoch 89/100\n",
            "110/110 [==============================] - 0s 3ms/step - loss: 1852419.6250 - val_loss: 130593.5859\n",
            "Epoch 90/100\n",
            "110/110 [==============================] - 0s 3ms/step - loss: 1131787.6250 - val_loss: 98330.1016\n",
            "Epoch 91/100\n",
            "110/110 [==============================] - 0s 3ms/step - loss: 3049487.0000 - val_loss: 202907.5000\n",
            "Epoch 92/100\n",
            "110/110 [==============================] - 0s 3ms/step - loss: 1089834.2500 - val_loss: 451927.8438\n",
            "Epoch 93/100\n",
            "110/110 [==============================] - 0s 3ms/step - loss: 2394126.0000 - val_loss: 199425.2969\n",
            "Epoch 94/100\n",
            "110/110 [==============================] - 0s 3ms/step - loss: 1158486.8750 - val_loss: 654943.0000\n",
            "Epoch 95/100\n",
            "110/110 [==============================] - 0s 3ms/step - loss: 1667287.3750 - val_loss: 130253.2812\n",
            "Epoch 96/100\n",
            "110/110 [==============================] - 0s 3ms/step - loss: 945134.4375 - val_loss: 43097.8750\n",
            "Epoch 97/100\n",
            "110/110 [==============================] - 0s 4ms/step - loss: 947645.5000 - val_loss: 47058.0273\n",
            "Epoch 98/100\n",
            "110/110 [==============================] - 0s 3ms/step - loss: 599543.2500 - val_loss: 41573.1094\n",
            "Epoch 99/100\n",
            "110/110 [==============================] - 0s 3ms/step - loss: 725793.6250 - val_loss: 41830.8945\n",
            "Epoch 100/100\n",
            "110/110 [==============================] - 0s 3ms/step - loss: 304197.6562 - val_loss: 41719.1328\n"
          ],
          "name": "stdout"
        }
      ]
    },
    {
      "cell_type": "code",
      "metadata": {
        "colab": {
          "base_uri": "https://localhost:8080/",
          "height": 295
        },
        "id": "IZnz_65gvZSU",
        "outputId": "1bd4aa25-c8c5-45b0-9fa3-35bf1b23c684"
      },
      "source": [
        "import matplotlib.pyplot as plt\r\n",
        "\r\n",
        "plt.plot(history.history['loss'][30:])\r\n",
        "plt.plot(history.history['val_loss'][30:])\r\n",
        "plt.title('model loss')\r\n",
        "plt.ylabel('loss')\r\n",
        "plt.xlabel('epoch')\r\n",
        "plt.legend(['train', 'val'], loc='upper left')\r\n",
        "plt.show()\r\n"
      ],
      "execution_count": null,
      "outputs": [
        {
          "output_type": "display_data",
          "data": {
            "image/png": "[encoded data removed]",
            "text/plain": [
              "<Figure size 432x288 with 1 Axes>"
            ]
          },
          "metadata": {
            "tags": [],
            "needs_background": "light"
          }
        }
      ]
    },
    {
      "cell_type": "code",
      "metadata": {
        "id": "wximNEKhFiV4"
      },
      "source": [
        "model.save_weights('init_wights.h5')"
      ],
      "execution_count": null,
      "outputs": []
    },
    {
      "cell_type": "code",
      "metadata": {
        "colab": {
          "base_uri": "https://localhost:8080/"
        },
        "id": "EmvScHZzsk0p",
        "outputId": "c25e83b9-b3f1-4188-9087-1096a6d2d293"
      },
      "source": [
        "def predict(model,data):\r\n",
        "  t = np.expand_dims(data, axis=-1)\r\n",
        "  t = np.expand_dims(t, axis=0)\r\n",
        "  return model.predict(t)\r\n",
        "\r\n",
        "predict(model,data_conversion_for_predict(data_to_predict))"
      ],
      "execution_count": null,
      "outputs": [
        {
          "output_type": "execute_result",
          "data": {
            "text/plain": [
              "array([[-344442.]], dtype=float32)"
            ]
          },
          "metadata": {
            "tags": []
          },
          "execution_count": 19
        }
      ]
    },
    {
      "cell_type": "code",
      "metadata": {
        "colab": {
          "base_uri": "https://localhost:8080/"
        },
        "id": "Iz8p0O5k0McY",
        "outputId": "30b7ae5d-c10d-4f69-c732-b9c3d11558ec"
      },
      "source": [
        "def retrain_model(new_data,model):\r\n",
        "  new_entry_X = np.expand_dims(new_data[0:2], axis=-1)\r\n",
        "  new_entry_X = np.expand_dims(new_entry_X, axis=0)\r\n",
        "\r\n",
        "  new_entry_y = np.array(new_data[2])\r\n",
        "  print(np.shape(new_entry_X))\r\n",
        "  print(new_entry_X)\r\n",
        "  print(new_entry_y)\r\n",
        "  model.fit(np.array(new_entry_X),np.array(np.expand_dims(new_entry_y, axis=0)),epochs=1,batch_size=1,verbose=1)\r\n",
        "\r\n",
        "retrain_model([1246494000,419,-39.759998],model)\r\n",
        "\r\n"
      ],
      "execution_count": null,
      "outputs": [
        {
          "output_type": "stream",
          "text": [
            "(1, 2, 1)\n",
            "[[[1246494000]\n",
            "  [       419]]]\n",
            "-39.759998\n",
            "1/1 [==============================] - 2s 2s/step - loss: 100594844958720.0000\n"
          ],
          "name": "stdout"
        }
      ]
    },
    {
      "cell_type": "code",
      "metadata": {
        "colab": {
          "base_uri": "https://localhost:8080/"
        },
        "id": "E12Lb2-sEd2K",
        "outputId": "0791c0f5-9c23-46d1-9774-a04b4d6cb7b0"
      },
      "source": [
        "data_train=\"{\\\"timestamp\\\":1.2807108E9,\\\"location_id\\\":0,\\\"measurement\\\":332.8999938964844}\"\r\n",
        "data_to_predict=\"{\\\"timestamp\\\":1.2807108E9,\\\"location_id\\\":0}\"\r\n",
        "import json\r\n",
        "\r\n",
        "def data_conversion_for_train(data):\r\n",
        "  data = json.loads(data)\r\n",
        "  return [float(data[\"timestamp\"]),float(data[\"location_id\"]),float(data[\"measurement\"])]\r\n",
        "\r\n",
        "def data_conversion_for_predict(data):\r\n",
        "  data = json.loads(data)\r\n",
        "  return [float(data[\"timestamp\"]),float(data[\"location_id\"])]\r\n",
        "\r\n",
        "print(data_conversion_for_train(data_train))\r\n",
        "print(data_conversion_for_predict(data_to_predict))"
      ],
      "execution_count": null,
      "outputs": [
        {
          "output_type": "stream",
          "text": [
            "[1280710800.0, 0.0, 332.8999938964844]\n",
            "[1280710800.0, 0.0]\n"
          ],
          "name": "stdout"
        }
      ]
    },
    {
      "cell_type": "code",
      "metadata": {
        "colab": {
          "base_uri": "https://localhost:8080/"
        },
        "id": "z2NTlOAhrBUy",
        "outputId": "df8f1117-261d-4e61-9631-dce68583a285"
      },
      "source": [
        "retrain_model(data_conversion_for_train(data_train),model)"
      ],
      "execution_count": null,
      "outputs": [
        {
          "output_type": "stream",
          "text": [
            "(1, 2, 1)\n",
            "[[[1.2807108e+09]\n",
            "  [0.0000000e+00]]]\n",
            "332.8999938964844\n",
            "1/1 [==============================] - 0s 392ms/step - loss: 1839237431296.0000\n"
          ],
          "name": "stdout"
        }
      ]
    },
    {
      "cell_type": "code",
      "metadata": {
        "colab": {
          "base_uri": "https://localhost:8080/"
        },
        "id": "6G3OEFjf1dzy",
        "outputId": "1e247ea0-c99e-42aa-986f-e4eb91927a89"
      },
      "source": [
        "print(len(dataset))"
      ],
      "execution_count": null,
      "outputs": [
        {
          "output_type": "stream",
          "text": [
            "35162432\n"
          ],
          "name": "stdout"
        }
      ]
    },
    {
      "cell_type": "markdown",
      "metadata": {
        "id": "Yfr4BMoqsZcC"
      },
      "source": [
        "##Dense Neural Network"
      ]
    },
    {
      "cell_type": "code",
      "metadata": {
        "id": "0vXn92kLutYv"
      },
      "source": [
        "#take only firs 10000\r\n",
        "data = dataset[0:100000]"
      ],
      "execution_count": 7,
      "outputs": []
    },
    {
      "cell_type": "code",
      "metadata": {
        "colab": {
          "base_uri": "https://localhost:8080/"
        },
        "id": "nNQ28O3wtgD0",
        "outputId": "f63ee8db-a786-4661-aea6-607c137e30aa"
      },
      "source": [
        "#hot econding location\r\n",
        "one_hot = pd.get_dummies(data[\"location_id\"]) \r\n",
        "data = data.drop('location_id',axis = 1)\r\n",
        "data = data.join(one_hot)\r\n",
        "data.drop(data.columns[0], axis=1, inplace=True)\r\n",
        "print(data)"
      ],
      "execution_count": 8,
      "outputs": [
        {
          "output_type": "stream",
          "text": [
            "          timestamp  measurements  0  1  2  ...  1911  1912  1913  1914  1915\n",
            "0      1.246493e+09    -79.500000  1  0  0  ...     0     0     0     0     0\n",
            "1      1.246493e+09   -397.619995  0  1  0  ...     0     0     0     0     0\n",
            "2      1.246493e+09    238.770004  0  0  1  ...     0     0     0     0     0\n",
            "3      1.246493e+09   -381.690002  0  0  0  ...     0     0     0     0     0\n",
            "4      1.246493e+09    -32.470001  0  0  0  ...     0     0     0     0     0\n",
            "...             ...           ... .. .. ..  ...   ...   ...   ...   ...   ...\n",
            "99995  1.246508e+09    395.190002  0  0  0  ...     0     0     0     0     0\n",
            "99996  1.246508e+09    679.849976  0  0  0  ...     0     0     0     0     0\n",
            "99997  1.246508e+09   -552.510010  0  0  0  ...     0     0     0     0     0\n",
            "99998  1.246508e+09   -403.890015  0  0  0  ...     0     0     0     0     0\n",
            "99999  1.246508e+09   -430.489990  0  0  0  ...     0     0     0     0     0\n",
            "\n",
            "[100000 rows x 1918 columns]\n"
          ],
          "name": "stdout"
        }
      ]
    },
    {
      "cell_type": "code",
      "metadata": {
        "id": "bYyliYlKsY5B"
      },
      "source": [
        "#normalize to a day timestamp\r\n",
        "measuraments = \"measurements\"\r\n",
        "y = data.pop(measuraments)\r\n",
        "X = data\r\n",
        "X[\"timestamp\"] = X[\"timestamp\"] % 86400"
      ],
      "execution_count": 9,
      "outputs": []
    },
    {
      "cell_type": "code",
      "metadata": {
        "id": "UFN3gC_kyW4U"
      },
      "source": [
        "#split dataset\r\n",
        "from sklearn.model_selection import train_test_split\r\n",
        "X_train,X_valid,y_train,y_valid=train_test_split(X,y,test_size=0.3,random_state=123)"
      ],
      "execution_count": 10,
      "outputs": []
    },
    {
      "cell_type": "code",
      "metadata": {
        "id": "79Ml1uApzQac"
      },
      "source": [
        "# model\r\n",
        "from numpy import array\r\n",
        "from keras.models import Sequential\r\n",
        "from keras.layers import LSTM\r\n",
        "from keras.layers import Dense\r\n",
        "from keras.layers import Dropout\r\n",
        "from keras.optimizers import Adam\r\n",
        "\r\n",
        "input_lenght = len(X_train.columns)\r\n",
        "\r\n",
        "model = Sequential()\r\n",
        "model.add(Dense(input_lenght, input_dim=input_lenght, activation='relu'))\r\n",
        "model.add(Dense(1024, activation='relu'))\r\n",
        "model.add(Dropout(0.3))\r\n",
        "model.add(Dense(1024, activation='relu'))\r\n",
        "model.add(Dense(1))\r\n",
        "model.compile(optimizer=\"adam\", loss='mse')"
      ],
      "execution_count": 30,
      "outputs": []
    },
    {
      "cell_type": "code",
      "metadata": {
        "colab": {
          "base_uri": "https://localhost:8080/"
        },
        "id": "sBJxNsb3KVZu",
        "outputId": "669abb5e-4c72-4242-bbc6-8142e3a42cd0"
      },
      "source": [
        "model.summary()"
      ],
      "execution_count": 31,
      "outputs": [
        {
          "output_type": "stream",
          "text": [
            "Model: \"sequential_4\"\n",
            "_________________________________________________________________\n",
            "Layer (type)                 Output Shape              Param #   \n",
            "=================================================================\n",
            "dense_12 (Dense)             (None, 1917)              3676806   \n",
            "_________________________________________________________________\n",
            "dense_13 (Dense)             (None, 1024)              1964032   \n",
            "_________________________________________________________________\n",
            "dropout_3 (Dropout)          (None, 1024)              0         \n",
            "_________________________________________________________________\n",
            "dense_14 (Dense)             (None, 1024)              1049600   \n",
            "_________________________________________________________________\n",
            "dense_15 (Dense)             (None, 1)                 1025      \n",
            "=================================================================\n",
            "Total params: 6,691,463\n",
            "Trainable params: 6,691,463\n",
            "Non-trainable params: 0\n",
            "_________________________________________________________________\n"
          ],
          "name": "stdout"
        }
      ]
    },
    {
      "cell_type": "code",
      "metadata": {
        "id": "BYFgxsubsfrn"
      },
      "source": [
        "model.load_weights(\"512.h5\")"
      ],
      "execution_count": 32,
      "outputs": []
    },
    {
      "cell_type": "code",
      "metadata": {
        "colab": {
          "base_uri": "https://localhost:8080/",
          "height": 1000
        },
        "id": "AWsM__BbFIV_",
        "outputId": "a0332f24-a413-4a24-c1a9-176174535370"
      },
      "source": [
        "# fit model\r\n",
        "history = model.fit(np.array(X_train), \r\n",
        "          np.array(y_train),\r\n",
        "          batch_size=256, \r\n",
        "          epochs=100, \r\n",
        "          verbose=1,\r\n",
        "          validation_data=(np.array(X_valid), np.array(y_valid)))"
      ],
      "execution_count": 26,
      "outputs": [
        {
          "output_type": "stream",
          "text": [
            "Epoch 1/100\n",
            "274/274 [==============================] - 2s 8ms/step - loss: 33853.6250 - val_loss: 33289.9102\n",
            "Epoch 2/100\n",
            "274/274 [==============================] - 2s 7ms/step - loss: 33852.0742 - val_loss: 33312.5195\n",
            "Epoch 3/100\n",
            "274/274 [==============================] - 2s 7ms/step - loss: 33859.1992 - val_loss: 33312.7773\n",
            "Epoch 4/100\n",
            "274/274 [==============================] - 2s 7ms/step - loss: 33857.0078 - val_loss: 33307.2266\n",
            "Epoch 5/100\n",
            "274/274 [==============================] - 2s 7ms/step - loss: 33864.6680 - val_loss: 33286.4414\n",
            "Epoch 6/100\n",
            "274/274 [==============================] - 2s 7ms/step - loss: 33890.8633 - val_loss: 33295.7383\n",
            "Epoch 7/100\n",
            "274/274 [==============================] - 2s 7ms/step - loss: 33869.6094 - val_loss: 33292.3789\n",
            "Epoch 8/100\n",
            "274/274 [==============================] - 2s 7ms/step - loss: 33864.2773 - val_loss: 33287.3359\n",
            "Epoch 9/100\n",
            "274/274 [==============================] - 2s 7ms/step - loss: 33862.2500 - val_loss: 33294.8398\n",
            "Epoch 10/100\n",
            "274/274 [==============================] - 2s 7ms/step - loss: 33856.4883 - val_loss: 33289.5547\n",
            "Epoch 11/100\n",
            "274/274 [==============================] - 2s 7ms/step - loss: 33854.5938 - val_loss: 33290.3438\n",
            "Epoch 12/100\n",
            "274/274 [==============================] - 2s 7ms/step - loss: 33856.7188 - val_loss: 33324.3789\n",
            "Epoch 13/100\n",
            "274/274 [==============================] - 2s 7ms/step - loss: 33854.9141 - val_loss: 33295.5039\n",
            "Epoch 14/100\n",
            "274/274 [==============================] - 2s 7ms/step - loss: 33863.8281 - val_loss: 33320.9688\n",
            "Epoch 15/100\n",
            "274/274 [==============================] - 2s 7ms/step - loss: 33860.5703 - val_loss: 33293.4453\n",
            "Epoch 16/100\n",
            "274/274 [==============================] - 2s 7ms/step - loss: 33857.9844 - val_loss: 33291.8125\n",
            "Epoch 17/100\n",
            "274/274 [==============================] - 2s 7ms/step - loss: 33854.3750 - val_loss: 33305.2656\n",
            "Epoch 18/100\n",
            "274/274 [==============================] - 2s 7ms/step - loss: 33869.3398 - val_loss: 33293.7969\n",
            "Epoch 19/100\n",
            "274/274 [==============================] - 2s 7ms/step - loss: 33857.3477 - val_loss: 33296.8711\n",
            "Epoch 20/100\n",
            "274/274 [==============================] - 2s 7ms/step - loss: 33858.1445 - val_loss: 33302.1250\n",
            "Epoch 21/100\n",
            "274/274 [==============================] - 2s 7ms/step - loss: 33855.7109 - val_loss: 33296.7227\n",
            "Epoch 22/100\n",
            "274/274 [==============================] - 2s 7ms/step - loss: 33855.9688 - val_loss: 33293.6523\n",
            "Epoch 23/100\n",
            "274/274 [==============================] - 2s 7ms/step - loss: 33854.3008 - val_loss: 33295.2891\n",
            "Epoch 24/100\n",
            "274/274 [==============================] - 2s 7ms/step - loss: 33854.2812 - val_loss: 33307.5430\n",
            "Epoch 25/100\n",
            "274/274 [==============================] - 2s 7ms/step - loss: 33859.8008 - val_loss: 33316.5742\n",
            "Epoch 26/100\n",
            "274/274 [==============================] - 2s 7ms/step - loss: 33865.8086 - val_loss: 33321.0352\n",
            "Epoch 27/100\n",
            "274/274 [==============================] - 2s 7ms/step - loss: 33853.8477 - val_loss: 33319.1406\n",
            "Epoch 28/100\n",
            "274/274 [==============================] - 2s 7ms/step - loss: 33851.0234 - val_loss: 33304.1016\n",
            "Epoch 29/100\n",
            "274/274 [==============================] - 2s 7ms/step - loss: 33861.6953 - val_loss: 33288.4141\n",
            "Epoch 30/100\n",
            "274/274 [==============================] - 2s 7ms/step - loss: 33866.1133 - val_loss: 33303.1562\n",
            "Epoch 31/100\n",
            "274/274 [==============================] - 2s 7ms/step - loss: 33857.1016 - val_loss: 33303.1172\n",
            "Epoch 32/100\n",
            "274/274 [==============================] - 2s 8ms/step - loss: 33866.5195 - val_loss: 33296.9219\n",
            "Epoch 33/100\n",
            "274/274 [==============================] - 2s 7ms/step - loss: 33860.9141 - val_loss: 33291.6836\n",
            "Epoch 34/100\n",
            "274/274 [==============================] - 2s 7ms/step - loss: 33851.4219 - val_loss: 33296.0195\n",
            "Epoch 35/100\n",
            "274/274 [==============================] - 2s 7ms/step - loss: 33848.9727 - val_loss: 33290.4648\n",
            "Epoch 36/100\n",
            "274/274 [==============================] - 2s 7ms/step - loss: 33852.4180 - val_loss: 33293.7695\n",
            "Epoch 37/100\n",
            "274/274 [==============================] - 2s 7ms/step - loss: 33858.7812 - val_loss: 33289.1250\n",
            "Epoch 38/100\n",
            "274/274 [==============================] - 2s 7ms/step - loss: 33852.0938 - val_loss: 33313.9414\n",
            "Epoch 39/100\n",
            "274/274 [==============================] - 2s 7ms/step - loss: 33850.9023 - val_loss: 33321.0117\n",
            "Epoch 40/100\n",
            "274/274 [==============================] - 2s 7ms/step - loss: 33850.5586 - val_loss: 33297.3125\n",
            "Epoch 41/100\n",
            "274/274 [==============================] - 2s 7ms/step - loss: 33846.9688 - val_loss: 33353.1758\n",
            "Epoch 42/100\n",
            "274/274 [==============================] - 2s 7ms/step - loss: 33850.0312 - val_loss: 33330.1211\n",
            "Epoch 43/100\n",
            "274/274 [==============================] - 2s 7ms/step - loss: 33846.0273 - val_loss: 33312.1953\n",
            "Epoch 44/100\n",
            "274/274 [==============================] - 2s 7ms/step - loss: 33846.0586 - val_loss: 33345.0352\n",
            "Epoch 45/100\n",
            "235/274 [========================>.....] - ETA: 0s - loss: 33834.6836"
          ],
          "name": "stdout"
        },
        {
          "output_type": "error",
          "ename": "KeyboardInterrupt",
          "evalue": "ignored",
          "traceback": [
            "\u001b[0;31m---------------------------------------------------------------------------\u001b[0m",
            "\u001b[0;31mKeyboardInterrupt\u001b[0m                         Traceback (most recent call last)",
            "\u001b[0;32m<ipython-input-26-6bb2f593e9a6>\u001b[0m in \u001b[0;36m<module>\u001b[0;34m()\u001b[0m\n\u001b[1;32m      5\u001b[0m           \u001b[0mepochs\u001b[0m\u001b[0;34m=\u001b[0m\u001b[0;36m100\u001b[0m\u001b[0;34m,\u001b[0m\u001b[0;34m\u001b[0m\u001b[0;34m\u001b[0m\u001b[0m\n\u001b[1;32m      6\u001b[0m           \u001b[0mverbose\u001b[0m\u001b[0;34m=\u001b[0m\u001b[0;36m1\u001b[0m\u001b[0;34m,\u001b[0m\u001b[0;34m\u001b[0m\u001b[0;34m\u001b[0m\u001b[0m\n\u001b[0;32m----> 7\u001b[0;31m           validation_data=(np.array(X_valid), np.array(y_valid)))\n\u001b[0m",
            "\u001b[0;32m/usr/local/lib/python3.6/dist-packages/tensorflow/python/keras/engine/training.py\u001b[0m in \u001b[0;36mfit\u001b[0;34m(self, x, y, batch_size, epochs, verbose, callbacks, validation_split, validation_data, shuffle, class_weight, sample_weight, initial_epoch, steps_per_epoch, validation_steps, validation_batch_size, validation_freq, max_queue_size, workers, use_multiprocessing)\u001b[0m\n\u001b[1;32m   1098\u001b[0m                 _r=1):\n\u001b[1;32m   1099\u001b[0m               \u001b[0mcallbacks\u001b[0m\u001b[0;34m.\u001b[0m\u001b[0mon_train_batch_begin\u001b[0m\u001b[0;34m(\u001b[0m\u001b[0mstep\u001b[0m\u001b[0;34m)\u001b[0m\u001b[0;34m\u001b[0m\u001b[0;34m\u001b[0m\u001b[0m\n\u001b[0;32m-> 1100\u001b[0;31m               \u001b[0mtmp_logs\u001b[0m \u001b[0;34m=\u001b[0m \u001b[0mself\u001b[0m\u001b[0;34m.\u001b[0m\u001b[0mtrain_function\u001b[0m\u001b[0;34m(\u001b[0m\u001b[0miterator\u001b[0m\u001b[0;34m)\u001b[0m\u001b[0;34m\u001b[0m\u001b[0;34m\u001b[0m\u001b[0m\n\u001b[0m\u001b[1;32m   1101\u001b[0m               \u001b[0;32mif\u001b[0m \u001b[0mdata_handler\u001b[0m\u001b[0;34m.\u001b[0m\u001b[0mshould_sync\u001b[0m\u001b[0;34m:\u001b[0m\u001b[0;34m\u001b[0m\u001b[0;34m\u001b[0m\u001b[0m\n\u001b[1;32m   1102\u001b[0m                 \u001b[0mcontext\u001b[0m\u001b[0;34m.\u001b[0m\u001b[0masync_wait\u001b[0m\u001b[0;34m(\u001b[0m\u001b[0;34m)\u001b[0m\u001b[0;34m\u001b[0m\u001b[0;34m\u001b[0m\u001b[0m\n",
            "\u001b[0;32m/usr/local/lib/python3.6/dist-packages/tensorflow/python/eager/def_function.py\u001b[0m in \u001b[0;36m__call__\u001b[0;34m(self, *args, **kwds)\u001b[0m\n\u001b[1;32m    826\u001b[0m     \u001b[0mtracing_count\u001b[0m \u001b[0;34m=\u001b[0m \u001b[0mself\u001b[0m\u001b[0;34m.\u001b[0m\u001b[0mexperimental_get_tracing_count\u001b[0m\u001b[0;34m(\u001b[0m\u001b[0;34m)\u001b[0m\u001b[0;34m\u001b[0m\u001b[0;34m\u001b[0m\u001b[0m\n\u001b[1;32m    827\u001b[0m     \u001b[0;32mwith\u001b[0m \u001b[0mtrace\u001b[0m\u001b[0;34m.\u001b[0m\u001b[0mTrace\u001b[0m\u001b[0;34m(\u001b[0m\u001b[0mself\u001b[0m\u001b[0;34m.\u001b[0m\u001b[0m_name\u001b[0m\u001b[0;34m)\u001b[0m \u001b[0;32mas\u001b[0m \u001b[0mtm\u001b[0m\u001b[0;34m:\u001b[0m\u001b[0;34m\u001b[0m\u001b[0;34m\u001b[0m\u001b[0m\n\u001b[0;32m--> 828\u001b[0;31m       \u001b[0mresult\u001b[0m \u001b[0;34m=\u001b[0m \u001b[0mself\u001b[0m\u001b[0;34m.\u001b[0m\u001b[0m_call\u001b[0m\u001b[0;34m(\u001b[0m\u001b[0;34m*\u001b[0m\u001b[0margs\u001b[0m\u001b[0;34m,\u001b[0m \u001b[0;34m**\u001b[0m\u001b[0mkwds\u001b[0m\u001b[0;34m)\u001b[0m\u001b[0;34m\u001b[0m\u001b[0;34m\u001b[0m\u001b[0m\n\u001b[0m\u001b[1;32m    829\u001b[0m       \u001b[0mcompiler\u001b[0m \u001b[0;34m=\u001b[0m \u001b[0;34m\"xla\"\u001b[0m \u001b[0;32mif\u001b[0m \u001b[0mself\u001b[0m\u001b[0;34m.\u001b[0m\u001b[0m_experimental_compile\u001b[0m \u001b[0;32melse\u001b[0m \u001b[0;34m\"nonXla\"\u001b[0m\u001b[0;34m\u001b[0m\u001b[0;34m\u001b[0m\u001b[0m\n\u001b[1;32m    830\u001b[0m       \u001b[0mnew_tracing_count\u001b[0m \u001b[0;34m=\u001b[0m \u001b[0mself\u001b[0m\u001b[0;34m.\u001b[0m\u001b[0mexperimental_get_tracing_count\u001b[0m\u001b[0;34m(\u001b[0m\u001b[0;34m)\u001b[0m\u001b[0;34m\u001b[0m\u001b[0;34m\u001b[0m\u001b[0m\n",
            "\u001b[0;32m/usr/local/lib/python3.6/dist-packages/tensorflow/python/eager/def_function.py\u001b[0m in \u001b[0;36m_call\u001b[0;34m(self, *args, **kwds)\u001b[0m\n\u001b[1;32m    853\u001b[0m       \u001b[0;31m# In this case we have created variables on the first call, so we run the\u001b[0m\u001b[0;34m\u001b[0m\u001b[0;34m\u001b[0m\u001b[0;34m\u001b[0m\u001b[0m\n\u001b[1;32m    854\u001b[0m       \u001b[0;31m# defunned version which is guaranteed to never create variables.\u001b[0m\u001b[0;34m\u001b[0m\u001b[0;34m\u001b[0m\u001b[0;34m\u001b[0m\u001b[0m\n\u001b[0;32m--> 855\u001b[0;31m       \u001b[0;32mreturn\u001b[0m \u001b[0mself\u001b[0m\u001b[0;34m.\u001b[0m\u001b[0m_stateless_fn\u001b[0m\u001b[0;34m(\u001b[0m\u001b[0;34m*\u001b[0m\u001b[0margs\u001b[0m\u001b[0;34m,\u001b[0m \u001b[0;34m**\u001b[0m\u001b[0mkwds\u001b[0m\u001b[0;34m)\u001b[0m  \u001b[0;31m# pylint: disable=not-callable\u001b[0m\u001b[0;34m\u001b[0m\u001b[0;34m\u001b[0m\u001b[0m\n\u001b[0m\u001b[1;32m    856\u001b[0m     \u001b[0;32melif\u001b[0m \u001b[0mself\u001b[0m\u001b[0;34m.\u001b[0m\u001b[0m_stateful_fn\u001b[0m \u001b[0;32mis\u001b[0m \u001b[0;32mnot\u001b[0m \u001b[0;32mNone\u001b[0m\u001b[0;34m:\u001b[0m\u001b[0;34m\u001b[0m\u001b[0;34m\u001b[0m\u001b[0m\n\u001b[1;32m    857\u001b[0m       \u001b[0;31m# Release the lock early so that multiple threads can perform the call\u001b[0m\u001b[0;34m\u001b[0m\u001b[0;34m\u001b[0m\u001b[0;34m\u001b[0m\u001b[0m\n",
            "\u001b[0;32m/usr/local/lib/python3.6/dist-packages/tensorflow/python/eager/function.py\u001b[0m in \u001b[0;36m__call__\u001b[0;34m(self, *args, **kwargs)\u001b[0m\n\u001b[1;32m   2941\u001b[0m        filtered_flat_args) = self._maybe_define_function(args, kwargs)\n\u001b[1;32m   2942\u001b[0m     return graph_function._call_flat(\n\u001b[0;32m-> 2943\u001b[0;31m         filtered_flat_args, captured_inputs=graph_function.captured_inputs)  # pylint: disable=protected-access\n\u001b[0m\u001b[1;32m   2944\u001b[0m \u001b[0;34m\u001b[0m\u001b[0m\n\u001b[1;32m   2945\u001b[0m   \u001b[0;34m@\u001b[0m\u001b[0mproperty\u001b[0m\u001b[0;34m\u001b[0m\u001b[0;34m\u001b[0m\u001b[0m\n",
            "\u001b[0;32m/usr/local/lib/python3.6/dist-packages/tensorflow/python/eager/function.py\u001b[0m in \u001b[0;36m_call_flat\u001b[0;34m(self, args, captured_inputs, cancellation_manager)\u001b[0m\n\u001b[1;32m   1917\u001b[0m       \u001b[0;31m# No tape is watching; skip to running the function.\u001b[0m\u001b[0;34m\u001b[0m\u001b[0;34m\u001b[0m\u001b[0;34m\u001b[0m\u001b[0m\n\u001b[1;32m   1918\u001b[0m       return self._build_call_outputs(self._inference_function.call(\n\u001b[0;32m-> 1919\u001b[0;31m           ctx, args, cancellation_manager=cancellation_manager))\n\u001b[0m\u001b[1;32m   1920\u001b[0m     forward_backward = self._select_forward_and_backward_functions(\n\u001b[1;32m   1921\u001b[0m         \u001b[0margs\u001b[0m\u001b[0;34m,\u001b[0m\u001b[0;34m\u001b[0m\u001b[0;34m\u001b[0m\u001b[0m\n",
            "\u001b[0;32m/usr/local/lib/python3.6/dist-packages/tensorflow/python/eager/function.py\u001b[0m in \u001b[0;36mcall\u001b[0;34m(self, ctx, args, cancellation_manager)\u001b[0m\n\u001b[1;32m    558\u001b[0m               \u001b[0minputs\u001b[0m\u001b[0;34m=\u001b[0m\u001b[0margs\u001b[0m\u001b[0;34m,\u001b[0m\u001b[0;34m\u001b[0m\u001b[0;34m\u001b[0m\u001b[0m\n\u001b[1;32m    559\u001b[0m               \u001b[0mattrs\u001b[0m\u001b[0;34m=\u001b[0m\u001b[0mattrs\u001b[0m\u001b[0;34m,\u001b[0m\u001b[0;34m\u001b[0m\u001b[0;34m\u001b[0m\u001b[0m\n\u001b[0;32m--> 560\u001b[0;31m               ctx=ctx)\n\u001b[0m\u001b[1;32m    561\u001b[0m         \u001b[0;32melse\u001b[0m\u001b[0;34m:\u001b[0m\u001b[0;34m\u001b[0m\u001b[0;34m\u001b[0m\u001b[0m\n\u001b[1;32m    562\u001b[0m           outputs = execute.execute_with_cancellation(\n",
            "\u001b[0;32m/usr/local/lib/python3.6/dist-packages/tensorflow/python/eager/execute.py\u001b[0m in \u001b[0;36mquick_execute\u001b[0;34m(op_name, num_outputs, inputs, attrs, ctx, name)\u001b[0m\n\u001b[1;32m     58\u001b[0m     \u001b[0mctx\u001b[0m\u001b[0;34m.\u001b[0m\u001b[0mensure_initialized\u001b[0m\u001b[0;34m(\u001b[0m\u001b[0;34m)\u001b[0m\u001b[0;34m\u001b[0m\u001b[0;34m\u001b[0m\u001b[0m\n\u001b[1;32m     59\u001b[0m     tensors = pywrap_tfe.TFE_Py_Execute(ctx._handle, device_name, op_name,\n\u001b[0;32m---> 60\u001b[0;31m                                         inputs, attrs, num_outputs)\n\u001b[0m\u001b[1;32m     61\u001b[0m   \u001b[0;32mexcept\u001b[0m \u001b[0mcore\u001b[0m\u001b[0;34m.\u001b[0m\u001b[0m_NotOkStatusException\u001b[0m \u001b[0;32mas\u001b[0m \u001b[0me\u001b[0m\u001b[0;34m:\u001b[0m\u001b[0;34m\u001b[0m\u001b[0;34m\u001b[0m\u001b[0m\n\u001b[1;32m     62\u001b[0m     \u001b[0;32mif\u001b[0m \u001b[0mname\u001b[0m \u001b[0;32mis\u001b[0m \u001b[0;32mnot\u001b[0m \u001b[0;32mNone\u001b[0m\u001b[0;34m:\u001b[0m\u001b[0;34m\u001b[0m\u001b[0;34m\u001b[0m\u001b[0m\n",
            "\u001b[0;31mKeyboardInterrupt\u001b[0m: "
          ]
        }
      ]
    },
    {
      "cell_type": "code",
      "metadata": {
        "colab": {
          "base_uri": "https://localhost:8080/",
          "height": 295
        },
        "id": "Sk2ZqoW9FvOu",
        "outputId": "89ce1e9e-e4df-45e9-8903-7ade73358fc3"
      },
      "source": [
        "import matplotlib.pyplot as plt\r\n",
        "\r\n",
        "plt.plot(history.history['loss'])\r\n",
        "plt.plot(history.history['val_loss'])\r\n",
        "plt.title('model loss')\r\n",
        "plt.ylabel('loss')\r\n",
        "plt.xlabel('epoch')\r\n",
        "plt.legend(['train', 'val'], loc='upper left')\r\n",
        "plt.savefig(\"2048.png\")\r\n",
        "plt.show()\r\n"
      ],
      "execution_count": 17,
      "outputs": [
        {
          "output_type": "display_data",
          "data": {
            "image/png": "[encoded data removed]",
            "text/plain": [
              "<Figure size 432x288 with 1 Axes>"
            ]
          },
          "metadata": {
            "tags": [],
            "needs_background": "light"
          }
        }
      ]
    },
    {
      "cell_type": "code",
      "metadata": {
        "colab": {
          "base_uri": "https://localhost:8080/"
        },
        "id": "Hvq2-PPKF1sc",
        "outputId": "15dfc467-fda7-48c4-8688-a03fc78cb25c"
      },
      "source": [
        "def one_hotencode(number):\r\n",
        "  array = np.zeros((input_lenght-1), dtype=int)\r\n",
        "  array[number]=1\r\n",
        "  return array\r\n",
        "\r\n",
        "def convert_second_of_the_day(timestamp):\r\n",
        "  return timestamp % 86400\r\n",
        "\r\n",
        "model.predict(np.array(X_train)[1].reshape(1,1917))"
      ],
      "execution_count": 22,
      "outputs": [
        {
          "output_type": "execute_result",
          "data": {
            "text/plain": [
              "array([[-1.0045271]], dtype=float32)"
            ]
          },
          "metadata": {
            "tags": []
          },
          "execution_count": 22
        }
      ]
    },
    {
      "cell_type": "code",
      "metadata": {
        "id": "p9td79-9y0tt"
      },
      "source": [
        ""
      ],
      "execution_count": null,
      "outputs": []
    },
    {
      "cell_type": "code",
      "metadata": {
        "colab": {
          "base_uri": "https://localhost:8080/"
        },
        "id": "SFQSkGwCMvcy",
        "outputId": "47602aa9-aa65-4949-a7f6-afda163a2253"
      },
      "source": [
        "print(one_hotencode(1915))\r\n",
        "print(one_hotencode(1))\r\n",
        "print(one_hotencode())"
      ],
      "execution_count": null,
      "outputs": [
        {
          "output_type": "stream",
          "text": [
            "[0 0 0 ... 0 0 1]\n",
            "[0 1 0 ... 0 0 0]\n",
            "[1 0 0 ... 0 0 0]\n"
          ],
          "name": "stdout"
        }
      ]
    },
    {
      "cell_type": "code",
      "metadata": {
        "colab": {
          "base_uri": "https://localhost:8080/"
        },
        "id": "TTYU3SYAIt0a",
        "outputId": "8ade99fc-0cea-4f23-8554-9f668370c3fb"
      },
      "source": [
        "#62000\r\n",
        "#test dataset\r\n",
        "from sklearn.metrics import mean_squared_error\r\n",
        "test_quantity=5000\r\n",
        "test = dataset[100000:(100000+test_quantity)]\r\n",
        "\r\n",
        "X_test = []\r\n",
        "y_true = []\r\n",
        "for index, row in test.iterrows():\r\n",
        "    X_test.append(np.concatenate((np.array(convert_second_of_the_day(row[\"timestamp\"])), one_hotencode(int(row[\"location_id\"]))), axis=None))\r\n",
        "    y_true.append(row[\"measurements\"])\r\n",
        "\r\n",
        "y_pred = []\r\n",
        "for i in X_test:\r\n",
        "  y_pred.append(model.predict(np.array(i).reshape(1,input_lenght)).reshape(1))\r\n",
        "\r\n",
        "\r\n",
        "print(np.shape(y_pred))\r\n",
        "print(np.shape(y_true))\r\n",
        "y_true = np.array(y_true).reshape(test_quantity,1)\r\n",
        "mean_squared_error(y_true,y_pred)\r\n"
      ],
      "execution_count": null,
      "outputs": [
        {
          "output_type": "stream",
          "text": [
            "(5000, 1)\n",
            "(5000,)\n"
          ],
          "name": "stdout"
        },
        {
          "output_type": "execute_result",
          "data": {
            "text/plain": [
              "26927.00642024697"
            ]
          },
          "metadata": {
            "tags": []
          },
          "execution_count": 22
        }
      ]
    },
    {
      "cell_type": "code",
      "metadata": {
        "colab": {
          "base_uri": "https://localhost:8080/"
        },
        "id": "UfZMd0FZOlYv",
        "outputId": "964bffed-4d72-4093-aa8c-ecaf9222ecb8"
      },
      "source": [
        "print(dataset[\"measurements\"].max())\r\n",
        "print(dataset[\"measurements\"].min())"
      ],
      "execution_count": null,
      "outputs": [
        {
          "output_type": "stream",
          "text": [
            "1978.6099853515625\n",
            "-1953.75\n"
          ],
          "name": "stdout"
        }
      ]
    },
    {
      "cell_type": "code",
      "metadata": {
        "colab": {
          "base_uri": "https://localhost:8080/"
        },
        "id": "a-son9iEahpn",
        "outputId": "6b1de668-8674-4733-d860-e4d9502d4379"
      },
      "source": [
        "print(X_train[\"timestamp\"].max())\r\n",
        "print(X_train[\"timestamp\"].min())"
      ],
      "execution_count": null,
      "outputs": [
        {
          "output_type": "stream",
          "text": [
            "1500.0\n",
            "0.0\n"
          ],
          "name": "stdout"
        }
      ]
    },
    {
      "cell_type": "code",
      "metadata": {
        "id": "0oA5P8fbjPot"
      },
      "source": [
        "model.save('model_dense.h5')"
      ],
      "execution_count": null,
      "outputs": []
    },
    {
      "cell_type": "code",
      "metadata": {
        "id": "UxfswU7xmzNu"
      },
      "source": [
        "import json\r\n",
        "\r\n",
        "def one_hotencode(number):\r\n",
        "  array = np.zeros((input_lenght-1), dtype=int)\r\n",
        "  array[number]=1\r\n",
        "  return array\r\n",
        "\r\n",
        "def convert_second_of_the_day(timestamp):\r\n",
        "  return timestamp % 86400\r\n",
        "\r\n",
        "def retrain(data):\r\n",
        "  data = json.loads(data)\r\n",
        "  data = [float(data[\"timestamp\"]),float(data[\"location_id\"]),float(data[\"measurement\"])]\r\n",
        "    \r\n",
        "  new_entry_X = np.expand_dims(np.concatenate((np.array(convert_second_of_the_day(data[0])), one_hotencode(int(data[1]))), axis=None) ,axis=0)\r\n",
        "  new_entry_y = np.expand_dims(data[2], axis=0)\r\n",
        "\r\n",
        "  model.fit(new_entry_X,new_entry_y,epochs=1,verbose=1)\r\n",
        "  model.save_weights(\"weights_after_training.h5\")\r\n",
        "\r\n",
        "  return model"
      ],
      "execution_count": 18,
      "outputs": []
    },
    {
      "cell_type": "code",
      "metadata": {
        "colab": {
          "base_uri": "https://localhost:8080/"
        },
        "id": "K_2wm9m60Qre",
        "outputId": "95274ddf-89b3-4b75-f556-b198c50785cd"
      },
      "source": [
        "def predict(data):\r\n",
        "  \r\n",
        "  to_predict = np.expand_dims(np.concatenate((np.array(convert_second_of_the_day(data[0])), one_hotencode(int(data[1]))), axis=None) ,axis=0)\r\n",
        "  return model.predict(to_predict.reshape(1,1917))\r\n",
        "\r\n",
        "data = \"{\\\"timestamp\\\":1.2835944E9,\\\"location_id\\\":0}\"\r\n",
        "data = json.loads(data)\r\n",
        "data = [float(data[\"timestamp\"]),float(data[\"location_id\"])]\r\n",
        "predict(data)"
      ],
      "execution_count": null,
      "outputs": [
        {
          "output_type": "execute_result",
          "data": {
            "text/plain": [
              "array([[1856.6849]], dtype=float32)"
            ]
          },
          "metadata": {
            "tags": []
          },
          "execution_count": 52
        }
      ]
    },
    {
      "cell_type": "code",
      "metadata": {
        "colab": {
          "base_uri": "https://localhost:8080/",
          "height": 265
        },
        "id": "aH4fbXY84Mgj",
        "outputId": "0d4ca877-6283-4737-a6bc-ded3da31c758"
      },
      "source": [
        "result = []\r\n",
        "\r\n",
        "i=1000\r\n",
        "while 1:\r\n",
        "  prediction = model.predict(np.expand_dims(np.concatenate((np.array(i), one_hotencode(3)), axis=None) ,axis=0))\r\n",
        "  result.append(prediction[0,0])\r\n",
        "  i=i+1000\r\n",
        "  if i>8460:\r\n",
        "    break\r\n",
        "\r\n",
        "y=np.array(result)\r\n",
        "x=[1,2,3,4,5,6,7,8]\r\n",
        "plt.plot(x,y)\r\n",
        "plt.show()\r\n"
      ],
      "execution_count": 66,
      "outputs": [
        {
          "output_type": "display_data",
          "data": {
            "image/png": "[encoded data removed]",
            "text/plain": [
              "<Figure size 432x288 with 1 Axes>"
            ]
          },
          "metadata": {
            "tags": [],
            "needs_background": "light"
          }
        }
      ]
    },
    {
      "cell_type": "code",
      "metadata": {
        "colab": {
          "base_uri": "https://localhost:8080/",
          "height": 282
        },
        "id": "9qi0ZjDN5Hzf",
        "outputId": "a38f31fd-c8d1-4cfa-edf3-265c78df8a20"
      },
      "source": [
        "location=1\r\n",
        "y=dataset[dataset[\"location_id\"]==location][\"measurements\"][300:600]\r\n",
        "x=dataset[dataset[\"location_id\"]==location][\"timestamp\"][300:600]\r\n",
        "\r\n",
        "first=1246492800\r\n",
        "last=first+8460\r\n",
        "\r\n",
        "\r\n",
        "#1246492800.0\r\n",
        "plt.plot(x,y)\r\n",
        "plt.savefig(\"seasonality.png\")\r\n",
        "plt.show()"
      ],
      "execution_count": 16,
      "outputs": [
        {
          "output_type": "display_data",
          "data": {
            "image/png": "[encoded data removed]",
            "text/plain": [
              "<Figure size 432x288 with 1 Axes>"
            ]
          },
          "metadata": {
            "tags": [],
            "needs_background": "light"
          }
        }
      ]
    }
  ]
}